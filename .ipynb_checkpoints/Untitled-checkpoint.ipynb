{
 "cells": [
  {
   "cell_type": "markdown",
   "id": "5d335211",
   "metadata": {},
   "source": [
    "# Advanced pandas Practice - Nashville City Cemetery"
   ]
  },
  {
   "cell_type": "markdown",
   "id": "cec74064",
   "metadata": {},
   "source": [
    "Import packages"
   ]
  },
  {
   "cell_type": "code",
   "execution_count": 1,
   "id": "9b44df92",
   "metadata": {},
   "outputs": [],
   "source": [
    "import pandas as pd\n",
    "import seaborn as sns\n",
    "import matplotlib.pyplot as plt"
   ]
  },
  {
   "cell_type": "markdown",
   "id": "246b2c1e",
   "metadata": {},
   "source": [
    "---\n",
    "\n",
    "### 1. Read the City Cemetery data into a pandas DataFrame"
   ]
  },
  {
   "cell_type": "code",
   "execution_count": 2,
   "id": "56f8532b",
   "metadata": {},
   "outputs": [],
   "source": [
    "cem_df = pd.read_excel('../../data/Historic_Nashville_City_Cemetery_Interments__1846-1979 (2).xlsx')\n",
    "\n",
    "cem_df"
   ]
  },
  {
   "cell_type": "markdown",
   "id": "2acc9b99",
   "metadata": {},
   "source": [
    "---\n",
    "\n",
    "### 2. Most Common Causes of Death.\n",
    "\n",
    "2a.  Find the 10 most common (known) recorded causes of death."
   ]
  },
  {
   "cell_type": "code",
   "execution_count": 3,
   "id": "62e4f298",
   "metadata": {},
   "outputs": [],
   "source": [
    "#subset the dataframe to contain only known causes\n",
    "known_causes = cem_df[~cem_df['Cause of Death/Burial'].isin(['Unknown', 'Not Known'])]\n",
    "\n",
    "#obtain a value count of known causes of death\n",
    "top_10 = known_causes['Cause of Death/Burial'].value_counts()\n",
    "\n",
    "#select only the top 10\n",
    "top_10 = top_10.head(10).reset_index()\n",
    "\n",
    "#change column names\n",
    "top_10.columns = ['Cause of Death', 'Count']\n",
    "\n",
    "#show the dataframe\n",
    "top_10"
   ]
  },
  {
   "cell_type": "markdown",
   "id": "23d8d261",
   "metadata": {},
   "source": [
    "---\n",
    "\n",
    "2b. Clean up some of the misspellings. Use the replace method to clean up some of the causes of death. For example, replace \"Cholrea\" with \"Cholera\" and \"Still Born\" with \"Stillborn\"."
   ]
  },
  {
   "cell_type": "code",
   "execution_count": 4,
   "id": "6c6e0a10",
   "metadata": {},
   "outputs": [],
   "source": [
    "cem_df['Cause of Death/Burial'] = cem_df['Cause of Death/Burial'].replace({\"Cholrea\" : \"Cholera\", \n",
    "                                                                           \"Still Born\" : \"Stillborn\"})"
   ]
  },
  {
   "cell_type": "markdown",
   "id": "a246740d",
   "metadata": {},
   "source": [
    "---\n",
    "\n",
    "2c. After correcting the spellings, find the 10 most common causes of death and create a bar chart to display your findings. (run the code from 2a)"
   ]
  },
  {
   "cell_type": "code",
   "execution_count": 5,
   "id": "0d798a05",
   "metadata": {},
   "outputs": [],
   "source": [
    "#subset the dataframe to contain only known causes\n",
    "known_causes = cem_df[~cem_df['Cause of Death/Burial'].isin(['Unknown', 'Not Known'])]\n",
    "\n",
    "#obtain a value count of known causes of death\n",
    "top_10 = known_causes['Cause of Death/Burial'].value_counts()\n",
    "\n",
    "#select only the top 10 and reset index to create a dataframe\n",
    "top_10 = top_10.head(10).reset_index()\n",
    "\n",
    "#change column names\n",
    "top_10.columns = ['Cause of Death', 'Count']\n",
    "\n",
    "#show the dataframe\n",
    "top_10"
   ]
  },
  {
   "cell_type": "markdown",
   "id": "66088157",
   "metadata": {},
   "source": [
    "---\n",
    "\n",
    "### 3. Create a line chart showing the number of burials per year."
   ]
  },
  {
   "cell_type": "code",
   "execution_count": 6,
   "id": "6b9987bf",
   "metadata": {},
   "outputs": [],
   "source": [
    "#obtain a value count for each burial year\n",
    "count_by_year = cem_df['Burial Year'].value_counts()\n",
    "\n",
    "#reset index to create a dataframe\n",
    "count_by_year = count_by_year.reset_index()\n",
    "\n",
    "#name the columns\n",
    "count_by_year.columns = ['Burial Year', 'Count']\n",
    "\n",
    "#sort by year\n",
    "count_by_year = count_by_year.sort_values(by = 'Burial Year')\n",
    "\n",
    "#create a line chart\n",
    "sns.lineplot(data = count_by_year, x = 'Burial Year', y = 'Count')\n",
    "\n",
    "#label y-axis\n",
    "plt.ylabel('Count of Burials')"
   ]
  },
  {
   "cell_type": "markdown",
   "id": "35047aa0",
   "metadata": {},
   "source": [
    "---\n",
    "\n",
    "### 4. Burials per Month and Year\n",
    "\n",
    "4a. Use the crosstab function to build a summary table showing the number of burials per year per month. You should have one row per year and one column for month.\n",
    "\n",
    "4b. After creating this summary table, make sure that the year labels are integers (no decimal part) and that the columns are sorted correctly."
   ]
  },
  {
   "cell_type": "code",
   "execution_count": 7,
   "id": "38743fec",
   "metadata": {},
   "outputs": [],
   "source": [
    "#drop all of the NA year values from the dataframe\n",
    "cem_df2 = cem_df.dropna(subset = 'Burial Year')\n",
    "\n",
    "#convert 'Burial Year' to an int\n",
    "cem_df2['Burial Year'] = cem_df2['Burial Year'].astype(int)\n",
    "\n",
    "#set 'Burial Month' to be an ordered categorical variable\n",
    "cem_df2['Burial Month'] = pd.Categorical(cem_df2['Burial Month'],\n",
    "                                         categories = ['Jan', 'Feb', 'Mar', 'Apr', 'May', 'Jun', 'Jul', 'Aug', 'Sep', 'Oct', 'Nov', 'Dec'],\n",
    "                                         ordered = True)\n",
    "\n",
    "#create a crosstab summary table\n",
    "crosstab = pd.crosstab(cem_df2['Burial Year'], cem_df2['Burial Month'])\n",
    "\n",
    "#view crosstab table\n",
    "crosstab"
   ]
  },
  {
   "cell_type": "markdown",
   "id": "f1dcc3d0",
   "metadata": {},
   "source": [
    "c. Filter your table to show only the years 1846 through 1860."
   ]
  },
  {
   "cell_type": "code",
   "execution_count": 8,
   "id": "41541115",
   "metadata": {},
   "outputs": [],
   "source": [
    "crosstab.loc[1846:1860,]"
   ]
  },
  {
   "cell_type": "markdown",
   "id": "bfecf6a0",
   "metadata": {},
   "source": [
    "4d. Go back to your original DataFrame and filter to the year and month that had the largest number of burials. What are the most common causes of death for that month?"
   ]
  },
  {
   "cell_type": "code",
   "execution_count": 9,
   "id": "796de8f0",
   "metadata": {},
   "outputs": [],
   "source": [
    "#convert 'Burial Year' to int without dropping the Nan values\n",
    "cem_df['Burial Year'] = pd.to_numeric(cem_df['Burial Year'], errors='coerce').astype('Int64')\n",
    "\n",
    "#subset the dataframe to include only year and month columns\n",
    "cem_yr_month = cem_df[['Burial Year', 'Burial Month']]\n",
    "\n",
    "#group by year\n",
    "cem_yr_month_groupby_yr = cem_yr_month.groupby('Burial Year')\n",
    "\n",
    "#obtain a value counts for each month and reset index to create a dataframe\n",
    "cem_yr_month_groupby_yr = cem_yr_month_groupby_yr.value_counts().reset_index()\n",
    "\n",
    "#rename columns\n",
    "cem_yr_month_groupby_yr.columns = ['year', 'month', 'count']\n",
    "\n",
    "#sort values with the highest at the top\n",
    "cem_yr_month_groupby_yr.sort_values(by = 'count', ascending = False)"
   ]
  },
  {
   "cell_type": "code",
   "execution_count": 10,
   "id": "69798b5b",
   "metadata": {},
   "outputs": [],
   "source": [
    "#subset the dataframe to include only September, 1866\n",
    "sep_1866 = cem_df[(cem_df['Burial Year'] == 1866.0) & (cem_df['Burial Month'] == 'Sep')]\n",
    "\n",
    "#obtain a value counts of the causes of death and display the top 5\n",
    "sep_1866['Cause of Death/Burial'].value_counts().head()"
   ]
  },
  {
   "cell_type": "markdown",
   "id": "125033af",
   "metadata": {},
   "source": [
    "The month with the largest number of burials was September, 1866.\n",
    "\n",
    "The most common cause of death in September 1866 was Cholera"
   ]
  },
  {
   "cell_type": "markdown",
   "id": "f9b2a953",
   "metadata": {},
   "source": [
    "---\n",
    "\n",
    "### 5. Burials per Decade\n",
    "\n",
    "5a. Create a \"Decade\" column to show the decade in which a burial occurred.\n",
    "\n",
    "The // operator is the floor division operator.  It performs division between two numbers and rounds down the result to the nearest whole number.\n",
    "The function 'get_decade()' \n",
    "\n",
    "- Divides the year by 10\n",
    "\n",
    "- Rounds down to the nearest whole number\n",
    "\n",
    "- Multiplies by 10\n",
    "\n",
    "- Adds an 's' at the end"
   ]
  },
  {
   "cell_type": "code",
   "execution_count": 11,
   "id": "519c26f0",
   "metadata": {},
   "outputs": [],
   "source": [
    "#define a function get_decade that takes a value (year) and returns the decade\n",
    "def get_decade(year):\n",
    "    return str(year // 10 * 10) + 's'\n",
    "\n",
    "#create a new column and apply the 'get_decade' function to fill the column\n",
    "cem_df['Decade'] = cem_df['Burial Year'].apply(get_decade)\n",
    "\n",
    "#view the dataframe\n",
    "cem_df"
   ]
  },
  {
   "cell_type": "markdown",
   "id": "7bb2872d",
   "metadata": {},
   "source": [
    "\n",
    "5b. Examine the burials per decade. Look at the total number of burials and the proportion (aka percentage) of male burials and female burials."
   ]
  },
  {
   "cell_type": "code",
   "execution_count": 12,
   "id": "50e0d40f",
   "metadata": {},
   "outputs": [],
   "source": [
    "#view the unique values in the Sex column\n",
    "cem_df['Sex'].unique()"
   ]
  },
  {
   "cell_type": "code",
   "execution_count": 13,
   "id": "1718b6bf",
   "metadata": {},
   "outputs": [],
   "source": [
    "#clean up the Sex column values:\n",
    "\n",
    "#create a mapping\n",
    "mapping = {'F' : 'Female',\n",
    "           'M' : 'Male',\n",
    "           'nan' : 'unknown',\n",
    "           'N' : 'unknown',\n",
    "           'D' : 'unknown', \n",
    "           'F, M' : 'Male and Female',\n",
    "           'M & F' : 'Male and Female',\n",
    "           'G' : 'unknown', \n",
    "           'F & M' : 'Male and Female', \n",
    "           'M, F' : 'Male and Female',\n",
    "           'm' : 'Male', \n",
    "           'W' : 'unknown', \n",
    "           'Boy' : 'Male', \n",
    "           'FF' : 'Female'}\n",
    "\n",
    "#apply the mapping to the 'Sex' column\n",
    "cem_df['Sex'] = cem_df['Sex'].replace(mapping)\n",
    "\n",
    "#view the unique values\n",
    "cem_df['Sex'].unique()"
   ]
  },
  {
   "cell_type": "code",
   "execution_count": 14,
   "id": "1842a309",
   "metadata": {},
   "outputs": [],
   "source": [
    "#total number of burials per decade\n",
    "burial_proportion = cem_df['Decade'].value_counts().reset_index()\n",
    "\n",
    "#rename columns\n",
    "burial_proportion.columns = ['decade', 'total_burials']\n",
    "\n",
    "#view df\n",
    "burial_proportion"
   ]
  },
  {
   "cell_type": "code",
   "execution_count": 15,
   "id": "fe42b851",
   "metadata": {},
   "outputs": [],
   "source": [
    "#subset to include only males\n",
    "males = cem_df[cem_df['Sex'] == 'Male']\n",
    "\n",
    "#obtain a valuecounts for males\n",
    "males = males['Decade'].value_counts().reset_index()\n",
    "\n",
    "#rename columns\n",
    "males.columns = ['decade', 'total_males']\n",
    "\n",
    "#view df\n",
    "males"
   ]
  },
  {
   "cell_type": "code",
   "execution_count": 16,
   "id": "ac3ec6d1",
   "metadata": {},
   "outputs": [],
   "source": [
    "#subset to include only females\n",
    "females = cem_df[cem_df['Sex'] == 'Female']\n",
    "\n",
    "#obtain a valuecounts for females\n",
    "females = females['Decade'].value_counts().reset_index()\n",
    "\n",
    "#rename columns\n",
    "females.columns = ['decade', 'total_females']\n",
    "\n",
    "#view df\n",
    "females"
   ]
  },
  {
   "cell_type": "code",
   "execution_count": 17,
   "id": "b0cc3172",
   "metadata": {},
   "outputs": [],
   "source": [
    "#merge all three dataframes (useing a nested merge)\n",
    "burial_proportion = pd.merge(pd.merge(burial_proportion, males, on = 'decade', how = 'outer'), females, on = 'decade', how = 'outer')\n",
    "\n",
    "#view df\n",
    "burial_proportion"
   ]
  },
  {
   "cell_type": "code",
   "execution_count": 18,
   "id": "63d2a3f2",
   "metadata": {},
   "outputs": [],
   "source": [
    "#create a column for percent males\n",
    "burial_proportion['perc male'] = round(burial_proportion['total_males']/burial_proportion['total_burials']*100, 2)\n",
    "\n",
    "#create a column for percent females\n",
    "burial_proportion['perc female'] = round(burial_proportion['total_females']/burial_proportion['total_burials']*100, 2)\n",
    "\n",
    "#view df\n",
    "burial_proportion"
   ]
  },
  {
   "cell_type": "markdown",
   "id": "ba353fd8",
   "metadata": {},
   "source": [
    "---\n",
    "\n",
    "3c. Create a clustered bar chart to show how male and female burials have changed over time."
   ]
  },
  {
   "cell_type": "code",
   "execution_count": 19,
   "id": "31ab3670",
   "metadata": {},
   "outputs": [],
   "source": [
    "#melt the dataframe to long format for seaborn\n",
    "melted_df = pd.melt(burial_proportion, id_vars='decade', var_name='variable', value_name='number')\n",
    "\n",
    "#view df\n",
    "melted_df"
   ]
  },
  {
   "cell_type": "code",
   "execution_count": 20,
   "id": "174aa12e",
   "metadata": {},
   "outputs": [],
   "source": [
    "#subset the dataframe to include only total_males and total_females\n",
    "males_females = melted_df[(melted_df['variable'] == 'total_males') | (melted_df['variable'] == 'total_females')]\n",
    "\n",
    "#create a clustered bar chart\n",
    "sns.barplot(data = males_females, x = 'decade', y = 'number', hue = 'variable')\n",
    "\n",
    "plt.legend(title='', loc='upper right')\n",
    "plt.ylabel('Total Number')\n",
    "plt.xlabel('Decade')\n",
    "plt.xticks(rotation = 45)"
   ]
  },
  {
   "cell_type": "code",
   "execution_count": null,
   "id": "ab3e4226",
   "metadata": {},
   "outputs": [],
   "source": []
  },
  {
   "cell_type": "code",
   "execution_count": null,
   "id": "12f797c3",
   "metadata": {},
   "outputs": [],
   "source": []
  },
  {
   "cell_type": "code",
   "execution_count": null,
   "id": "d1cac82a",
   "metadata": {},
   "outputs": [],
   "source": []
  },
  {
   "cell_type": "code",
   "execution_count": null,
   "id": "2357139c",
   "metadata": {},
   "outputs": [],
   "source": []
  },
  {
   "cell_type": "code",
   "execution_count": null,
   "id": "732a01cd",
   "metadata": {},
   "outputs": [],
   "source": []
  },
  {
   "cell_type": "code",
   "execution_count": null,
   "id": "a7ea48d8",
   "metadata": {},
   "outputs": [],
   "source": []
  },
  {
   "cell_type": "code",
   "execution_count": null,
   "id": "68bb3193",
   "metadata": {},
   "outputs": [],
   "source": []
  },
  {
   "cell_type": "code",
   "execution_count": null,
   "id": "af58d8fe",
   "metadata": {},
   "outputs": [],
   "source": []
  },
  {
   "cell_type": "code",
   "execution_count": null,
   "id": "e6bbb853",
   "metadata": {},
   "outputs": [],
   "source": []
  },
  {
   "cell_type": "code",
   "execution_count": null,
   "id": "46adc6c4",
   "metadata": {},
   "outputs": [],
   "source": []
  },
  {
   "cell_type": "code",
   "execution_count": null,
   "id": "b9acf54f",
   "metadata": {},
   "outputs": [],
   "source": []
  },
  {
   "cell_type": "code",
   "execution_count": null,
   "id": "4d788d7d",
   "metadata": {},
   "outputs": [],
   "source": []
  },
  {
   "cell_type": "code",
   "execution_count": null,
   "id": "16c1474f",
   "metadata": {},
   "outputs": [],
   "source": []
  },
  {
   "cell_type": "code",
   "execution_count": null,
   "id": "6af5d549",
   "metadata": {},
   "outputs": [],
   "source": []
  },
  {
   "cell_type": "code",
   "execution_count": null,
   "id": "7c66e444",
   "metadata": {},
   "outputs": [],
   "source": []
  },
  {
   "cell_type": "code",
   "execution_count": null,
   "id": "b250287d",
   "metadata": {},
   "outputs": [],
   "source": []
  },
  {
   "cell_type": "code",
   "execution_count": null,
   "id": "23168992",
   "metadata": {},
   "outputs": [],
   "source": []
  },
  {
   "cell_type": "code",
   "execution_count": null,
   "id": "5fe2701e",
   "metadata": {},
   "outputs": [],
   "source": []
  },
  {
   "cell_type": "code",
   "execution_count": null,
   "id": "8e145037",
   "metadata": {},
   "outputs": [],
   "source": []
  },
  {
   "cell_type": "code",
   "execution_count": null,
   "id": "b2656eea",
   "metadata": {},
   "outputs": [],
   "source": []
  },
  {
   "cell_type": "code",
   "execution_count": null,
   "id": "04afe1b2",
   "metadata": {},
   "outputs": [],
   "source": []
  },
  {
   "cell_type": "code",
   "execution_count": null,
   "id": "58df3a69",
   "metadata": {},
   "outputs": [],
   "source": []
  },
  {
   "cell_type": "code",
   "execution_count": null,
   "id": "84b953fa",
   "metadata": {},
   "outputs": [],
   "source": []
  },
  {
   "cell_type": "code",
   "execution_count": null,
   "id": "517fb31d",
   "metadata": {},
   "outputs": [],
   "source": []
  },
  {
   "cell_type": "code",
   "execution_count": null,
   "id": "d67c51c5",
   "metadata": {},
   "outputs": [],
   "source": []
  },
  {
   "cell_type": "code",
   "execution_count": null,
   "id": "f591274e",
   "metadata": {},
   "outputs": [],
   "source": []
  },
  {
   "cell_type": "code",
   "execution_count": null,
   "id": "d8169b3d",
   "metadata": {},
   "outputs": [],
   "source": []
  },
  {
   "cell_type": "code",
   "execution_count": null,
   "id": "34e7b1aa",
   "metadata": {},
   "outputs": [],
   "source": []
  },
  {
   "cell_type": "code",
   "execution_count": null,
   "id": "85f5a00f",
   "metadata": {},
   "outputs": [],
   "source": []
  },
  {
   "cell_type": "code",
   "execution_count": null,
   "id": "b195ea0f",
   "metadata": {},
   "outputs": [],
   "source": []
  },
  {
   "cell_type": "code",
   "execution_count": null,
   "id": "744cd58e",
   "metadata": {},
   "outputs": [],
   "source": []
  },
  {
   "cell_type": "code",
   "execution_count": null,
   "id": "ef91675c",
   "metadata": {},
   "outputs": [],
   "source": []
  },
  {
   "cell_type": "code",
   "execution_count": null,
   "id": "482aa99f",
   "metadata": {},
   "outputs": [],
   "source": []
  },
  {
   "cell_type": "code",
   "execution_count": null,
   "id": "84054e02",
   "metadata": {},
   "outputs": [],
   "source": []
  },
  {
   "cell_type": "code",
   "execution_count": null,
   "id": "af6b21b4",
   "metadata": {},
   "outputs": [],
   "source": []
  },
  {
   "cell_type": "code",
   "execution_count": null,
   "id": "847dd306",
   "metadata": {},
   "outputs": [],
   "source": []
  },
  {
   "cell_type": "code",
   "execution_count": null,
   "id": "3b42b2cb",
   "metadata": {},
   "outputs": [],
   "source": []
  },
  {
   "cell_type": "code",
   "execution_count": null,
   "id": "2d4280ca",
   "metadata": {},
   "outputs": [],
   "source": []
  },
  {
   "cell_type": "code",
   "execution_count": null,
   "id": "45b33474",
   "metadata": {},
   "outputs": [],
   "source": []
  },
  {
   "cell_type": "code",
   "execution_count": null,
   "id": "54420d7c",
   "metadata": {},
   "outputs": [],
   "source": []
  },
  {
   "cell_type": "code",
   "execution_count": null,
   "id": "53c9de0d",
   "metadata": {},
   "outputs": [],
   "source": []
  },
  {
   "cell_type": "code",
   "execution_count": null,
   "id": "7530a778",
   "metadata": {},
   "outputs": [],
   "source": []
  },
  {
   "cell_type": "code",
   "execution_count": null,
   "id": "ea6d8e49",
   "metadata": {},
   "outputs": [],
   "source": []
  },
  {
   "cell_type": "code",
   "execution_count": null,
   "id": "0251b5fa",
   "metadata": {},
   "outputs": [],
   "source": []
  },
  {
   "cell_type": "code",
   "execution_count": null,
   "id": "85014f3a",
   "metadata": {},
   "outputs": [],
   "source": []
  }
 ],
 "metadata": {
  "kernelspec": {
   "display_name": "Python 3 (ipykernel)",
   "language": "python",
   "name": "python3"
  },
  "language_info": {
   "codemirror_mode": {
    "name": "ipython",
    "version": 3
   },
   "file_extension": ".py",
   "mimetype": "text/x-python",
   "name": "python",
   "nbconvert_exporter": "python",
   "pygments_lexer": "ipython3",
   "version": "3.11.3"
  }
 },
 "nbformat": 4,
 "nbformat_minor": 5
}
